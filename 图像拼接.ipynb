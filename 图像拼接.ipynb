{
 "cells": [
  {
   "cell_type": "markdown",
   "metadata": {},
   "source": [
    "test"
   ]
  },
  {
   "cell_type": "code",
   "execution_count": 4,
   "metadata": {},
   "outputs": [
    {
     "ename": "ValueError",
     "evalue": "operands could not be broadcast together with shapes (2062,2069) (2062,2069,3) ",
     "output_type": "error",
     "traceback": [
      "\u001b[1;31m---------------------------------------------------------------------------\u001b[0m",
      "\u001b[1;31mValueError\u001b[0m                                Traceback (most recent call last)",
      "Cell \u001b[1;32mIn[4], line 110\u001b[0m\n\u001b[0;32m    107\u001b[0m         \u001b[38;5;28mprint\u001b[39m(\u001b[38;5;124m\"\u001b[39m\u001b[38;5;124mError: Could not stitch images\u001b[39m\u001b[38;5;124m\"\u001b[39m)\n\u001b[0;32m    109\u001b[0m \u001b[38;5;28;01mif\u001b[39;00m \u001b[38;5;18m__name__\u001b[39m \u001b[38;5;241m==\u001b[39m \u001b[38;5;124m\"\u001b[39m\u001b[38;5;124m__main__\u001b[39m\u001b[38;5;124m\"\u001b[39m:\n\u001b[1;32m--> 110\u001b[0m     \u001b[43mmain\u001b[49m\u001b[43m(\u001b[49m\u001b[43m)\u001b[49m\n",
      "Cell \u001b[1;32mIn[4], line 100\u001b[0m, in \u001b[0;36mmain\u001b[1;34m()\u001b[0m\n\u001b[0;32m     97\u001b[0m     \u001b[38;5;28;01mreturn\u001b[39;00m\n\u001b[0;32m     99\u001b[0m \u001b[38;5;66;03m# 进行图像拼接\u001b[39;00m\n\u001b[1;32m--> 100\u001b[0m result \u001b[38;5;241m=\u001b[39m \u001b[43mstitch_images\u001b[49m\u001b[43m(\u001b[49m\u001b[43mimg1\u001b[49m\u001b[43m,\u001b[49m\u001b[43m \u001b[49m\u001b[43mimg2\u001b[49m\u001b[43m)\u001b[49m\n\u001b[0;32m    102\u001b[0m \u001b[38;5;28;01mif\u001b[39;00m result \u001b[38;5;129;01mis\u001b[39;00m \u001b[38;5;129;01mnot\u001b[39;00m \u001b[38;5;28;01mNone\u001b[39;00m:\n\u001b[0;32m    103\u001b[0m     \u001b[38;5;66;03m# 保存结果\u001b[39;00m\n\u001b[0;32m    104\u001b[0m     cv2\u001b[38;5;241m.\u001b[39mimwrite(\u001b[38;5;124m'\u001b[39m\u001b[38;5;124mstitched_image.jpg\u001b[39m\u001b[38;5;124m'\u001b[39m, result)\n",
      "Cell \u001b[1;32mIn[4], line 76\u001b[0m, in \u001b[0;36mstitch_images\u001b[1;34m(img1, img2)\u001b[0m\n\u001b[0;32m     73\u001b[0m weight2 \u001b[38;5;241m=\u001b[39m cv2\u001b[38;5;241m.\u001b[39mGaussianBlur(mask2, (\u001b[38;5;241m21\u001b[39m, \u001b[38;5;241m21\u001b[39m), \u001b[38;5;241m11\u001b[39m)\n\u001b[0;32m     75\u001b[0m \u001b[38;5;66;03m# 归一化权重\u001b[39;00m\n\u001b[1;32m---> 76\u001b[0m weight1 \u001b[38;5;241m=\u001b[39m weight1 \u001b[38;5;241m/\u001b[39m (\u001b[43mweight1\u001b[49m\u001b[43m \u001b[49m\u001b[38;5;241;43m+\u001b[39;49m\u001b[43m \u001b[49m\u001b[43mweight2\u001b[49m \u001b[38;5;241m+\u001b[39m \u001b[38;5;241m1e-6\u001b[39m)\n\u001b[0;32m     77\u001b[0m weight2 \u001b[38;5;241m=\u001b[39m weight2 \u001b[38;5;241m/\u001b[39m (weight1 \u001b[38;5;241m+\u001b[39m weight2 \u001b[38;5;241m+\u001b[39m \u001b[38;5;241m1e-6\u001b[39m)\n\u001b[0;32m     79\u001b[0m \u001b[38;5;66;03m# 加权融合\u001b[39;00m\n",
      "\u001b[1;31mValueError\u001b[0m: operands could not be broadcast together with shapes (2062,2069) (2062,2069,3) "
     ]
    }
   ],
   "source": [
    "import cv2\n",
    "import numpy as np\n",
    "\n",
    "\n",
    "def stitch_images(img1, img2):\n",
    "    \"\"\"\n",
    "    将两张图片进行拼接\n",
    "    Args:\n",
    "        img1: 第一张输入图片\n",
    "        img2: 第二张输入图片\n",
    "    Returns:\n",
    "        result: 拼接后的图片\n",
    "    \"\"\"\n",
    "    # 1. 特征点检测与匹配\n",
    "    # 创建SIFT检测器\n",
    "    sift = cv2.SIFT_create()\n",
    "    \n",
    "    # 检测特征点和计算描述符\n",
    "    keypoints1, descriptors1 = sift.detectAndCompute(img1, None)\n",
    "    keypoints2, descriptors2 = sift.detectAndCompute(img2, None)\n",
    "    \n",
    "    # 创建特征匹配器\n",
    "    bf = cv2.BFMatcher()\n",
    "    matches = bf.knnMatch(descriptors1, descriptors2, k=2)\n",
    "    \n",
    "    # 2. 应用比率测试筛选好的匹配点\n",
    "    good_matches = []\n",
    "    for m, n in matches:\n",
    "        if m.distance < 0.75 * n.distance:\n",
    "            good_matches.append(m)\n",
    "    \n",
    "    # 3. 查找单应性矩阵\n",
    "    if len(good_matches) >= 4:\n",
    "        # 获取匹配点的坐标\n",
    "        src_pts = np.float32([keypoints1[m.queryIdx].pt for m in good_matches]).reshape(-1, 1, 2)\n",
    "        dst_pts = np.float32([keypoints2[m.trainIdx].pt for m in good_matches]).reshape(-1, 1, 2)\n",
    "        \n",
    "        # 计算单应性矩阵\n",
    "        H, mask = cv2.findHomography(src_pts, dst_pts, cv2.RANSAC, 5.0)\n",
    "        \n",
    "        # 4. 图像变换和拼接\n",
    "        # 获取图像尺寸\n",
    "        h1, w1 = img1.shape[:2]\n",
    "        h2, w2 = img2.shape[:2]\n",
    "        \n",
    "        # 计算变换后图像的范围\n",
    "        pts1 = np.float32([[0, 0], [0, h1], [w1, h1], [w1, 0]]).reshape(-1, 1, 2)\n",
    "        pts2 = cv2.perspectiveTransform(pts1, H)\n",
    "        \n",
    "        # 计算输出图像的尺寸和偏移\n",
    "        pts = np.concatenate((pts2, np.float32([[0, 0], [0, h2], [w2, h2], [w2, 0]]).reshape(-1, 1, 2)))\n",
    "        [xmin, ymin] = np.int32(pts.min(axis=0).ravel() - 0.5)\n",
    "        [xmax, ymax] = np.int32(pts.max(axis=0).ravel() + 0.5)\n",
    "        t = [-xmin, -ymin]\n",
    "        \n",
    "        # 创建平移矩阵\n",
    "        Ht = np.array([[1, 0, t[0]], [0, 1, t[1]], [0, 0, 1]])\n",
    "        \n",
    "        # 对第一张图片进行变换\n",
    "        result = cv2.warpPerspective(img1, Ht.dot(H), (xmax-xmin, ymax-ymin))\n",
    "        \n",
    "        # 5. 图像融合\n",
    "        # 将第二张图片复制到结果图像中\n",
    "        result[t[1]:h2+t[1], t[0]:w2+t[0]] = img2\n",
    "        \n",
    "        # 6. 处理重叠区域 - 使用加权融合\n",
    "        mask1 = np.zeros((ymax-ymin, xmax-xmin), dtype=np.float32)\n",
    "        mask1[t[1]:h2+t[1], t[0]:w2+t[0]] = 1\n",
    "        mask2 = cv2.warpPerspective(np.ones_like(img1, dtype=np.float32), Ht.dot(H), (xmax-xmin, ymax-ymin))\n",
    "        \n",
    "        # 创建权重矩阵\n",
    "        weight1 = cv2.GaussianBlur(mask1, (21, 21), 11)\n",
    "        weight2 = cv2.GaussianBlur(mask2, (21, 21), 11)\n",
    "        \n",
    "        # 归一化权重\n",
    "        weight1 = weight1 / (weight1 + weight2 + 1e-6)\n",
    "        weight2 = weight2 / (weight1 + weight2 + 1e-6)\n",
    "        \n",
    "        # 加权融合\n",
    "        warped_img1 = cv2.warpPerspective(img1, Ht.dot(H), (xmax-xmin, ymax-ymin))\n",
    "        result = weight1[..., None] * result + weight2[..., None] * warped_img1\n",
    "        \n",
    "        return result.astype(np.uint8)\n",
    "    \n",
    "    return None\n",
    "\n",
    "def main():\n",
    "    \"\"\"\n",
    "    主函数，用于测试图像拼接\n",
    "    \"\"\"\n",
    "    # 读取输入图像\n",
    "    img1 = cv2.imread('image1.jpg')\n",
    "    img2 = cv2.imread('image2.jpg')\n",
    "    \n",
    "    if img1 is None or img2 is None:\n",
    "        print(\"Error: Could not read input images\")\n",
    "        return\n",
    "    \n",
    "    # 进行图像拼接\n",
    "    result = stitch_images(img1, img2)\n",
    "    \n",
    "    if result is not None:\n",
    "        # 保存结果\n",
    "        cv2.imwrite('stitched_image.jpg', result)\n",
    "        print(\"Stitching completed successfully!\")\n",
    "    else:\n",
    "        print(\"Error: Could not stitch images\")\n",
    "\n",
    "if __name__ == \"__main__\":\n",
    "    main()"
   ]
  },
  {
   "cell_type": "code",
   "execution_count": null,
   "metadata": {},
   "outputs": [
    {
     "name": "stdout",
     "output_type": "stream",
     "text": [
      "Looking in indexes: https://pypi.org/simple, https://pypi.ngc.nvidia.com\n",
      "Requirement already satisfied: opencv-python in c:\\users\\henry\\conda\\lib\\site-packages (4.10.0.84)\n",
      "Requirement already satisfied: numpy>=1.21.2 in c:\\users\\henry\\conda\\lib\\site-packages (from opencv-python) (2.0.2)\n",
      "Note: you may need to restart the kernel to use updated packages.\n"
     ]
    }
   ],
   "source": []
  },
  {
   "cell_type": "code",
   "execution_count": null,
   "metadata": {},
   "outputs": [],
   "source": []
  }
 ],
 "metadata": {
  "kernelspec": {
   "display_name": "Python 3",
   "language": "python",
   "name": "python3"
  },
  "language_info": {
   "codemirror_mode": {
    "name": "ipython",
    "version": 3
   },
   "file_extension": ".py",
   "mimetype": "text/x-python",
   "name": "python",
   "nbconvert_exporter": "python",
   "pygments_lexer": "ipython3",
   "version": "3.10.15"
  }
 },
 "nbformat": 4,
 "nbformat_minor": 2
}
